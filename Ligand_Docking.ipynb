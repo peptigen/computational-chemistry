{
  "nbformat": 4,
  "nbformat_minor": 0,
  "metadata": {
    "colab": {
      "provenance": [],
      "gpuType": "T4",
      "machine_shape": "hm",
      "authorship_tag": "ABX9TyNUPVxCZe697tywuX5IrFyT",
      "include_colab_link": true
    },
    "kernelspec": {
      "name": "python3",
      "display_name": "Python 3"
    },
    "language_info": {
      "name": "python"
    },
    "accelerator": "GPU"
  },
  "cells": [
    {
      "cell_type": "markdown",
      "metadata": {
        "id": "view-in-github",
        "colab_type": "text"
      },
      "source": [
        "<a href=\"https://colab.research.google.com/github/kimjc95/computational-chemistry/blob/main/Ligand_Docking.ipynb\" target=\"_parent\"><img src=\"https://colab.research.google.com/assets/colab-badge.svg\" alt=\"Open In Colab\"/></a>"
      ]
    },
    {
      "cell_type": "code",
      "execution_count": null,
      "metadata": {
        "id": "csZ5KKFY8Jhi",
        "cellView": "form"
      },
      "outputs": [],
      "source": [
        "#@title Conda 설치\n",
        "#@markdown 런타임이 종료되었다가 다시 연결되는데, 당황하지 마시고 이어서 실행하시면 됩니다.\n",
        "\n",
        "# Colab에서 Conda 실행하기 위해 준비\n",
        "!pip install -q condacolab\n",
        "import condacolab\n",
        "condacolab.install()\n",
        "!rm -rf /usr/local/conda-meta/pinned"
      ]
    },
    {
      "cell_type": "code",
      "source": [
        "#@title Dependencies 설치\n",
        "#@markdown (1분 가량 소요)\n",
        "#@markdown 이틈에 Receptor PDB 파일과 Ligand MOL 파일을 업로드 해주세요.\n",
        "\n",
        "!git clone -q --depth=1 https://github.com/QVina/qvina.git\n",
        "!chmod -R 755 /content/qvina\n",
        "!mamba install -q -c conda-forge openbabel numpy scipy rdkit parmed prody biopython pdbfixer nglview\n",
        "!pip3 install -q meeko py3Dmol pdb4amber\n",
        "\n",
        "from rdkit import Chem\n",
        "from rdkit.Chem import AllChem\n",
        "from rdkit.Chem import Descriptors\n",
        "from rdkit.Chem.Draw import IPythonConsole\n",
        "from rdkit.Chem.Lipinski import RotatableBondSmarts\n",
        "from IPython.display import Image\n",
        "from pdbfixer import PDBFixer\n",
        "from openmm.app import PDBFile\n",
        "from Bio.PDB import *\n",
        "from openbabel import pybel\n",
        "import os\n",
        "import locale\n",
        "import numpy as np\n",
        "import nglview as nv\n",
        "from google.colab import output\n",
        "output.enable_custom_widget_manager()\n"
      ],
      "metadata": {
        "cellView": "form",
        "id": "ucg0sORdT3A2"
      },
      "execution_count": null,
      "outputs": []
    },
    {
      "cell_type": "code",
      "source": [
        "#@title **1. Ligand.pdbqt 준비**\n",
        "#@markdown Ligand MOL 파일의 이름을 입력해주세요.\n",
        "\n",
        "#@markdown 구조를 확인하고 전하나 결합차수가 맞는지 확인해주세요.\n",
        "\n",
        "#@markdown 그림에 나온 원자번호는 0부터 셉니다.\n",
        "\n",
        "ligandFile = \"FhbK.mol\" #@param {type:\"string\"}\n",
        "\n",
        "IPythonConsole.molSize = 1000,750\n",
        "IPythonConsole.drawOptions.addAtomIndices = True\n",
        "IPythonConsole.drawOptions.addBondIndices = False\n",
        "\n",
        "mol = Chem.MolFromMolFile(ligandFile)\n",
        "Chem.SanitizeMol(mol)\n",
        "Chem.rdCoordGen.AddCoords(mol)\n",
        "mol"
      ],
      "metadata": {
        "cellView": "form",
        "id": "H6oR4A5uT1nI"
      },
      "execution_count": null,
      "outputs": []
    },
    {
      "cell_type": "code",
      "source": [
        "# @markdown 수소를 자동으로 더합니다.\n",
        "mol_wH = Chem.rdmolops.AddHs(mol, explicitOnly=False, addCoords=True)\n",
        "mol_wH"
      ],
      "metadata": {
        "cellView": "form",
        "id": "Z94TADAFhCEl"
      },
      "execution_count": null,
      "outputs": []
    },
    {
      "cell_type": "code",
      "source": [
        "#@markdown 회전 가능한 공유결합을 붉은색으로 표시해줍니다.\n",
        "\n",
        "d = Chem.Draw.rdMolDraw2D.MolDraw2DCairo(1000, 750)\n",
        "\n",
        "n_rot_bonds = Chem.rdMolDescriptors.CalcNumRotatableBonds(mol_wH)\n",
        "n_amide_bonds = Chem.rdMolDescriptors.CalcNumAmideBonds(mol_wH)\n",
        "print(\"Number of rotatable bonds : \"+str(n_rot_bonds))\n",
        "print(\"Number of amide bonds : \"+str(n_amide_bonds))\n",
        "\n",
        "rot_atom_pairs = mol_wH.GetSubstructMatches(RotatableBondSmarts)\n",
        "rot_bonds = list(set([mol_wH.GetBondBetweenAtoms(*ap).GetIdx() for ap in rot_atom_pairs]))\n",
        "\n",
        "Chem.Draw.rdMolDraw2D.PrepareAndDrawMolecule(d, mol_wH, legend='Rotatable bonds', highlightBonds=rot_bonds)\n",
        "d.WriteDrawingText(\"rotatable_bond_highlight.png\")\n",
        "Image(\"rotatable_bond_highlight.png\")"
      ],
      "metadata": {
        "cellView": "form",
        "id": "yG4vFwkTlSiG"
      },
      "execution_count": null,
      "outputs": []
    },
    {
      "cell_type": "code",
      "source": [
        "# @markdown 이제 원자가 아닌 결합에 번호를 붙여 표시해드립니다.\n",
        "\n",
        "# @markdown 잘 보고 회전을 고정하고 싶은 결합 번호를 0 1 2 이런 식으로 입력해주세요.\n",
        "IPythonConsole.drawOptions.addAtomIndices = False\n",
        "IPythonConsole.drawOptions.addBondIndices = True\n",
        "\n",
        "fix_bonds = \"9 42\" #@param {type:\"string\"}\n",
        "fix_bonds_idx = [int(s) for s in fix_bonds.split(' ')]\n",
        "mol_wH"
      ],
      "metadata": {
        "cellView": "form",
        "id": "a9B41xuhkQ_4"
      },
      "execution_count": null,
      "outputs": []
    },
    {
      "cell_type": "code",
      "source": [
        "# @markdown 고정된 결합은 파랑색으로 표시하였습니다.\n",
        "\n",
        "# @markdown 수정이 필요하시면 다시 위의 셀을 실행해주세요.\n",
        "\n",
        "bond_colors = {}\n",
        "\n",
        "for bond in Chem.rdchem.Mol.GetBonds(mol_wH):\n",
        "    if bond.GetIdx() in fix_bonds_idx:\n",
        "        bond_colors[bond.GetIdx()] = (0.0,0.0,0.8)\n",
        "    elif bond in rot_bonds:\n",
        "        bond_colors[bond.GetIdx()] = (0.8,0.0,0.0)\n",
        "\n",
        "d2 = Chem.Draw.rdMolDraw2D.MolDraw2DCairo(1000, 750)\n",
        "\n",
        "Chem.Draw.rdMolDraw2D.PrepareAndDrawMolecule(d2, mol_wH, legend='Rotatable bonds in Red, Fixed bonds in Blue',\n",
        "                                            highlightBonds=rot_bonds, highlightBondColors=bond_colors)\n",
        "\n",
        "d2.WriteDrawingText(\"fixed_bond_highlight.png\")\n",
        "Image(\"fixed_bond_highlight.png\")"
      ],
      "metadata": {
        "cellView": "form",
        "id": "i2k6MfcuDrVq"
      },
      "execution_count": null,
      "outputs": []
    },
    {
      "cell_type": "code",
      "source": [
        "# @markdown 리간드 3차원 구조를 최적화할 ForceField를 선택해주세요.\n",
        "\n",
        "FFtype = \"UFF\" #@param ['MMFF','UFF']\n",
        "\n",
        "# @markdown 최적화된 구조는 ligand.sdf에 저장됩니다.\n",
        "\n",
        "Chem.AllChem.EmbedMolecule(mol_wH)\n",
        "\n",
        "if FFtype == 'UFF':\n",
        "    Chem.AllChem.UFFOptimizeMolecule(mol_wH, maxIters=200)\n",
        "else:\n",
        "    Chem.AllChem.MMFFOptimizeMolecule(mol_wH, maxIters=200)\n",
        "mblock = Chem.MolToMolBlock(mol_wH)\n",
        "writer = Chem.SDWriter('ligand.sdf')\n",
        "writer.write(mol_wH, confId=0)\n",
        "\n",
        "\n",
        "view = nv.show_rdkit(mol_wH)\n",
        "view"
      ],
      "metadata": {
        "cellView": "form",
        "id": "PVJFgdp1hm9-"
      },
      "execution_count": null,
      "outputs": []
    },
    {
      "cell_type": "code",
      "source": [
        "# @markdown prepare_ligand.py로 ligand.pdbqt 파일을 준비합니다.\n",
        "\n",
        "SMILES = Chem.rdmolfiles.MolToSmiles(mol_wH)\n",
        "rotatable = \"\"\n",
        "\n",
        "for i in fix_bonds_idx:\n",
        "    bond = mol_wH.GetBondWithIdx(i)\n",
        "    a1 = bond.GetBeginAtom().GetIdx()+1\n",
        "    a2 = bond.GetEndAtom().GetIdx()+1\n",
        "    rotatable = rotatable + ' -r \"'+SMILES+'\" -b '+str(a1)+\" \"+str(a2)\n",
        "\n",
        "if os.system('mk_prepare_ligand.py -i ligand.sdf -o ligand.pdbqt'+rotatable) == 0:\n",
        "    print(\"ligand.pdbqt successfully generated.\")"
      ],
      "metadata": {
        "cellView": "form",
        "id": "RlAZFOLTJALe"
      },
      "execution_count": null,
      "outputs": []
    },
    {
      "cell_type": "code",
      "source": [
        "# @title **2. Receptor.pdbqt 준비**\n",
        "# @markdown Receptor PDB 파일명을 입력해주세요.\n",
        "\n",
        "receptorFile = \"MaPylRS.pdb\" # @param {type:\"string\"}\n",
        "\n",
        "# @markdown 수소를 더해줄 기준 pH를 설정하세요.\n",
        "pH = 7.0 #@param {type:\"slider\", min:0.0, max:14.0, step:0.1}\n",
        "# @markdown 고쳐진 PDB 파일은 receptor-final.pdb로 저장됩니다.\n",
        "\n",
        "fixer = PDBFixer(filename=receptorFile)\n",
        "fixer.findMissingResidues()\n",
        "fixer.findNonstandardResidues()\n",
        "fixer.replaceNonstandardResidues()\n",
        "fixer.removeHeterogens(True)\n",
        "fixer.findMissingAtoms()\n",
        "fixer.addMissingAtoms()\n",
        "fixer.addMissingHydrogens(pH)\n",
        "\n",
        "with open('receptor-fixed.pdb', 'w') as f:\n",
        "    PDBFile.writeFile(fixer.topology, fixer.positions, f)\n",
        "\n",
        "os.system('pdb4amber -i receptor-fixed.pdb -o receptorwithH.pdb -p --most-populous')\n",
        "\n",
        "parser = PDBParser()\n",
        "s = parser.get_structure('receptor', 'receptorwithH.pdb')\n",
        "\n",
        "for chain in s.get_chains():\n",
        "    for atom in chain[1].get_atoms():\n",
        "        if atom.get_name() == 'H':\n",
        "            setattr(atom, \"id\", 'H1')\n",
        "            setattr(atom, \"name\", 'H1')\n",
        "            setattr(atom, \"fullname\", ' H1  ')\n",
        "            print(atom.id)\n",
        "\n",
        "com = s.center_of_mass()\n",
        "s.transform(np.array([[1,0,0],[0,1,0],[0,0,1]]), tran=-1*com)\n",
        "\n",
        "\n",
        "io = PDBIO()\n",
        "io.set_structure(s)\n",
        "io.save(\"receptor-final.pdb\")\n",
        "\n",
        "with open(\"receptor-final.pdb\") as f:\n",
        "    view = nv.show_file(f, ext=\"pdb\")\n",
        "\n",
        "view\n"
      ],
      "metadata": {
        "cellView": "form",
        "id": "Cx5x_QrDGe8m"
      },
      "execution_count": null,
      "outputs": []
    },
    {
      "cell_type": "code",
      "source": [
        "# @markdown Grid Box center 좌표 (in Angstrom)를 입력하세요. 혹은 위 위젯에서 원자를 클릭하세요.\n",
        "\n",
        "center_x = \"-5\" #@param {type:\"string\"}\n",
        "center_y = \"0\" #@param {type:\"string\"}\n",
        "center_z = \"5\" #@param {type:\"string\"}\n",
        "\n",
        "if center_x == \"\" or center_y == \"\" or center_z == \"\":\n",
        "    if view.picked == {}:\n",
        "        raise ValueError(\"좌표가 입력되지 않았습니다.\")\n",
        "    else:\n",
        "        center_x = view.picked[\"atom1\"][\"x\"]\n",
        "        center_y = view.picked[\"atom1\"][\"y\"]\n",
        "        center_z = view.picked[\"atom1\"][\"z\"]\n",
        "else:\n",
        "    center_x = float(center_x)\n",
        "    center_y = float(center_y)\n",
        "    center_z = float(center_z)\n",
        "\n",
        "print(f\"Box Center is {center_x:.3f}, {center_y:.3f}, {center_z:.3f}\")\n"
      ],
      "metadata": {
        "colab": {
          "base_uri": "https://localhost:8080/"
        },
        "cellView": "form",
        "id": "VIlr4rKGQBAQ",
        "outputId": "2d6da145-6b8d-462a-98ba-19049d610cc4"
      },
      "execution_count": 11,
      "outputs": [
        {
          "output_type": "stream",
          "name": "stdout",
          "text": [
            "Box Center is -5.000, 0.000, 5.000\n"
          ]
        }
      ]
    },
    {
      "cell_type": "code",
      "source": [
        "# @markdown Grid Box 길이, 폭, 높이를 입력하세요.\n",
        "len_x = \"40\" #@param {type:\"string\"}\n",
        "len_y = \"45\" #@param {type:\"string\"}\n",
        "len_z = \"35\" #@param {type:\"string\"}\n",
        "\n",
        "with open('receptor-final.pdb', 'r') as f:\n",
        "    view2 = nv.show_file(f, ext='pdb')\n",
        "\n",
        "\n",
        "# @markdown 이 셀을 실행 후 아래 위젯에서 박스 크기와 위치를 확인하세요.\n",
        "\n",
        "# @markdown center 좌표나 box 크기를 바꾼 후 이 셀을 다시 실행해 확인하세요.\n",
        "\n",
        "# @markdown 빨강이 x축, 초록이 y축, 파랑이 z축입니다.\n",
        "\n",
        "len_x = float(len_x)\n",
        "len_y = float(len_y)\n",
        "len_z = float(len_z)\n",
        "\n",
        "corner1 = [center_x+len_x/2, center_y+len_y/2, center_z+len_z/2]\n",
        "corner2 = [center_x-len_x/2, center_y+len_y/2, center_z+len_z/2]\n",
        "corner3 = [center_x-len_x/2, center_y-len_y/2, center_z+len_z/2]\n",
        "corner4 = [center_x+len_x/2, center_y-len_y/2, center_z+len_z/2]\n",
        "corner5 = [center_x+len_x/2, center_y+len_y/2, center_z-len_z/2]\n",
        "corner6 = [center_x-len_x/2, center_y+len_y/2, center_z-len_z/2]\n",
        "corner7 = [center_x-len_x/2, center_y-len_y/2, center_z-len_z/2]\n",
        "corner8 = [center_x+len_x/2, center_y-len_y/2, center_z-len_z/2]\n",
        "\n",
        "view2.shape.add_cylinder(corner1, corner2, [1,1,1], [0.1])\n",
        "view2.shape.add_cylinder(corner2, corner3, [1,1,1], [0.1])\n",
        "view2.shape.add_cylinder(corner3, corner4, [1,1,1], [0.1])\n",
        "view2.shape.add_cylinder(corner4, corner1, [1,1,1], [0.1])\n",
        "view2.shape.add_cylinder(corner1, corner5, [1,1,1], [0.1])\n",
        "view2.shape.add_cylinder(corner2, corner6, [1,1,1], [0.1])\n",
        "view2.shape.add_cylinder(corner3, corner7, [0,0,1], [0.2])\n",
        "view2.shape.add_cylinder(corner4, corner8, [1,1,1], [0.1])\n",
        "view2.shape.add_cylinder(corner5, corner6, [1,1,1], [0.1])\n",
        "view2.shape.add_cylinder(corner6, corner7, [0,1,0], [0.2])\n",
        "view2.shape.add_cylinder(corner7, corner8, [1,0,0], [0.2])\n",
        "view2.shape.add_cylinder(corner8, corner5, [1,1,1], [0.1])\n",
        "\n",
        "view2"
      ],
      "metadata": {
        "cellView": "form",
        "id": "kAsy13Tk7G7M"
      },
      "execution_count": null,
      "outputs": []
    },
    {
      "cell_type": "code",
      "source": [
        "# @markdown 지정하고 싶은 Flexible residue들을 쉼표로 구분하여 입력하세요.\n",
        "\n",
        "# @markdown \"Chain ID : Residue name : Residue number\" 식으로 공백없이 써주세요.\n",
        "flexible_residues = \"\" # @param {type:\"string\"}\n",
        "\n",
        "fr = flexible_residues.split(',')\n",
        "\n",
        "flex_res = \"\"\n",
        "\n",
        "if fr != [\"\"]:\n",
        "    for res in fr:\n",
        "        flex_res = flex_res + \" -f \"+res\n",
        "\n",
        "os.system('mk_prepare_receptor.py --pdb receptor-final.pdb -o receptor.pdbqt --box_size '+str(len_x)+' '+str(len_y)+' '+str(len_z)+' --box_center '+str(center_x)+' '+str(center_y)+' '+str(center_z)+flex_res)"
      ],
      "metadata": {
        "cellView": "form",
        "id": "dN-P7RhZ6xkI"
      },
      "execution_count": null,
      "outputs": []
    },
    {
      "cell_type": "code",
      "source": [
        "locale.getpreferredencoding = lambda: \"UTF-8\"\n",
        "\n",
        "# @title **3. QuickVina2를 이용한 도킹**\n",
        "output = \"ligand_out.pdbqt\"\n",
        "# @markdown Exhaustiveness 값을 설정하세요. 클 수록 오래 걸립니다.\n",
        "exhaustiveness = 8 #@param {type:\"slider\", min:8, max:512, step:8}\n",
        "# @markdown 도킹 로그는 docking_log.txt에, 결과는 ligand_out.pdbqt에 저장됩니다.\n",
        "\n",
        "if fr != [\"\"]:\n",
        "    flex_rec = \" --flex receptor_flex.pdbqt\"\n",
        "else:\n",
        "    flex_rec = \"\"\n",
        "\n",
        "with open('config', 'w') as f:\n",
        "    f.write(\"receptor = receptor.pdbqt\\n\")\n",
        "    f.write(\"ligand = ligand.pdbqt\\n\")\n",
        "    if fr != [\"\"]:\n",
        "        f.write(\"flex = receptor_flex.pdbqt\\n\")\n",
        "    f.write(\"center_x = \"+str(center_x)+'\\n')\n",
        "    f.write(\"center_y = \"+str(center_x)+'\\n')\n",
        "    f.write(\"center_z = \"+str(center_x)+'\\n')\n",
        "    f.write(\"size_x = \"+str(len_x)+'\\n')\n",
        "    f.write(\"size_y = \"+str(len_y)+'\\n')\n",
        "    f.write(\"size_z = \"+str(len_z)+'\\n')\n",
        "    f.write(\"out = \"+output+'\\n')\n",
        "    f.write(\"log = docking_log.txt\\n\")\n",
        "    f.write(\"exhaustiveness = \"+str(exhaustiveness))\n",
        "\n",
        "!/content/qvina/bin/qvina2.1 --config config\n",
        "\n",
        "ms = pybel.readfile('pdbqt', 'ligand_out.pdbqt')\n",
        "\n",
        "for i, pose in enumerate(ms):\n",
        "    pose.write(\"pdb\", \"docked_pose_\"+str(i+1)+'.pdb')"
      ],
      "metadata": {
        "cellView": "form",
        "id": "kMwJvkZqA96Q"
      },
      "execution_count": null,
      "outputs": []
    },
    {
      "cell_type": "code",
      "source": [
        "# @title **4. 결과 분석**\n",
        "# @markdown 보고 싶은 pose를 선택하세요.\n",
        "pose = 1 # @param [1,2,3,4,5,6,7,8,9]\n",
        "\n",
        "view4 = nv.NGLWidget()\n",
        "view4.add_structure(nv.BiopythonStructure(s))\n",
        "view4.add_surface(lowResolution= True, smooth=1, opacity=0.4)\n",
        "view4.add_structure(nv.FileStructure('docked_pose_'+str(pose)+'.pdb'))\n",
        "view4"
      ],
      "metadata": {
        "cellView": "form",
        "id": "oaMKiU3V6hHk"
      },
      "execution_count": null,
      "outputs": []
    }
  ]
}